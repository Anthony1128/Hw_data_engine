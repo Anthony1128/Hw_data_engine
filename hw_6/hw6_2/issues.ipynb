{
 "metadata": {
  "language_info": {
   "codemirror_mode": {
    "name": "ipython",
    "version": 3
   },
   "file_extension": ".py",
   "mimetype": "text/x-python",
   "name": "python",
   "nbconvert_exporter": "python",
   "pygments_lexer": "ipython3",
   "version": "3.8.2-final"
  },
  "orig_nbformat": 2,
  "kernelspec": {
   "name": "python3",
   "display_name": "Python 3"
  }
 },
 "nbformat": 4,
 "nbformat_minor": 2,
 "cells": [
  {
   "cell_type": "code",
   "execution_count": 3,
   "metadata": {},
   "outputs": [],
   "source": [
    "import pandas as pd\n",
    "import numpy as np\n",
    "from sqlalchemy import create_engine\n",
    "\n",
    "HOST = 'localhost'\n",
    "DB_NAME = 'postgres'\n",
    "USER = 'postgres'\n",
    "\n",
    "company = 'Citibank'\n",
    "\n",
    "performance_time_sql = 0.120\n",
    "engine = create_engine(f'postgresql://{USER}@{HOST}/{DB_NAME}')"
   ]
  },
  {
   "cell_type": "code",
   "execution_count": 32,
   "metadata": {},
   "outputs": [
    {
     "output_type": "stream",
     "name": "stdout",
     "text": [
      "Citibank in CA state\nperformanse time of the same program with sql: 0.12\nCPU times: user 702 ms, sys: 48.8 ms, total: 751 ms\nWall time: 818 ms\n"
     ]
    }
   ],
   "source": [
    "%%time\n",
    "df = pd.read_sql_table(table_name='consumercomplaints', con=engine, index_col='Date Received')\n",
    "mask = df['Company'] == company\n",
    "state = df.loc[mask].groupby(['Company', 'State Name']).agg({'Complaint ID': pd.Series.count}).sort_values(by='Complaint ID', ascending=False).head(1).index[0][1]\n",
    "mask = (df['Company'] == company) & (df['State Name'] == state)\n",
    "print(f'{company} in {state} state')\n",
    "df.loc[mask][['Issue', 'Sub Issue', 'Consumer Complaint Narrative', 'Company Response to Consumer']]\n",
    "print(f'performanse time of the same program with sql: {performance_time_sql}')\n"
   ]
  },
  {
   "cell_type": "code",
   "execution_count": null,
   "metadata": {},
   "outputs": [],
   "source": []
  }
 ]
}