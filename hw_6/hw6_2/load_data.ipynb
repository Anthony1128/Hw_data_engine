{
 "metadata": {
  "language_info": {
   "codemirror_mode": {
    "name": "ipython",
    "version": 3
   },
   "file_extension": ".py",
   "mimetype": "text/x-python",
   "name": "python",
   "nbconvert_exporter": "python",
   "pygments_lexer": "ipython3",
   "version": "3.8.2-final"
  },
  "orig_nbformat": 2,
  "kernelspec": {
   "name": "python3",
   "display_name": "Python 3"
  }
 },
 "nbformat": 4,
 "nbformat_minor": 2,
 "cells": [
  {
   "cell_type": "code",
   "execution_count": 3,
   "metadata": {},
   "outputs": [],
   "source": [
    "import pandas as pd\n",
    "from sqlalchemy import create_engine\n",
    "\n",
    "HOST = 'localhost'\n",
    "DB_NAME = 'postgres'\n",
    "USER = 'postgres'\n",
    "\n",
    "performance_time_sql = 1.57\n",
    "engine = create_engine(f'postgresql://{USER}@{HOST}/{DB_NAME}')"
   ]
  },
  {
   "cell_type": "code",
   "execution_count": 8,
   "metadata": {},
   "outputs": [
    {
     "output_type": "stream",
     "name": "stdout",
     "text": [
      "performanse time of the same program with sql: 1.57\nCPU times: user 7.04 s, sys: 2.21 s, total: 9.25 s\nWall time: 18.4 s\n"
     ]
    }
   ],
   "source": [
    "%%time\n",
    "df = pd.read_csv('P9-ConsumerComplaints.csv', parse_dates=['Date Received'])\n",
    "df.to_sql(name='consumercomplaints', con=engine, if_exists='replace', index=False)\n",
    "print(f'performanse time of the same program with sql: {performance_time_sql}')"
   ]
  },
  {
   "cell_type": "code",
   "execution_count": null,
   "metadata": {},
   "outputs": [],
   "source": []
  }
 ]
}