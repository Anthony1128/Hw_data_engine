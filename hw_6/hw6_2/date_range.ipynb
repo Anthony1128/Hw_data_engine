{
 "metadata": {
  "language_info": {
   "codemirror_mode": {
    "name": "ipython",
    "version": 3
   },
   "file_extension": ".py",
   "mimetype": "text/x-python",
   "name": "python",
   "nbconvert_exporter": "python",
   "pygments_lexer": "ipython3",
   "version": "3.8.2-final"
  },
  "orig_nbformat": 2,
  "kernelspec": {
   "name": "python3",
   "display_name": "Python 3"
  }
 },
 "nbformat": 4,
 "nbformat_minor": 2,
 "cells": [
  {
   "cell_type": "code",
   "execution_count": 32,
   "metadata": {},
   "outputs": [],
   "source": [
    "import pandas as pd\n",
    "import numpy as np\n",
    "from sqlalchemy import create_engine\n",
    "\n",
    "HOST = 'localhost'\n",
    "DB_NAME = 'postgres'\n",
    "USER = 'postgres'\n",
    "\n",
    "start_date = pd.Timestamp(2013, 7, 29)\n",
    "end_date = pd.Timestamp(2013, 10, 29)\n",
    "\n",
    "performance_time_sql = 0.292\n",
    "engine = create_engine(f'postgresql://{USER}@{HOST}/{DB_NAME}')"
   ]
  },
  {
   "cell_type": "code",
   "execution_count": 45,
   "metadata": {},
   "outputs": [
    {
     "output_type": "stream",
     "name": "stdout",
     "text": [
      "performanse time of the same program with sql: 0.292\nCPU times: user 901 ms, sys: 291 ms, total: 1.19 s\nWall time: 1.27 s\n"
     ]
    }
   ],
   "source": [
    "%%time\n",
    "df = pd.read_sql_table(table_name='consumercomplaints', con=engine, index_col='Date Received')\n",
    "df['Timely Response'] = df['Timely Response'].replace('No', np.nan)\n",
    "df['Consumer Disputed'] = df['Consumer Disputed'].replace('No', np.nan)\n",
    "mask = (df.index >= start_date) & (df.index <= end_date)\n",
    "df.loc[mask].groupby('Product Name').agg({'Complaint ID': pd.Series.nunique, 'Timely Response': pd.Series.count, 'Consumer Disputed': pd.Series.count}).sort_values(by='Complaint ID', ascending=False)\n",
    "print(f'performanse time of the same program with sql: {performance_time_sql}')"
   ]
  },
  {
   "cell_type": "code",
   "execution_count": null,
   "metadata": {},
   "outputs": [],
   "source": []
  }
 ]
}